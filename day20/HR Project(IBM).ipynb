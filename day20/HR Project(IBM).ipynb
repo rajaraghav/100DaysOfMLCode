{
 "cells": [
  {
   "cell_type": "markdown",
   "metadata": {},
   "source": [
    "# HR Project "
   ]
  },
  {
   "cell_type": "code",
   "execution_count": 4,
   "metadata": {},
   "outputs": [
    {
     "name": "stderr",
     "output_type": "stream",
     "text": [
      "/Users/Th3D4rKnight/anaconda3/envs/aarus_project/lib/python3.6/importlib/_bootstrap.py:219: RuntimeWarning: numpy.dtype size changed, may indicate binary incompatibility. Expected 96, got 88\n",
      "  return f(*args, **kwds)\n"
     ]
    }
   ],
   "source": [
    "import numpy as np\n",
    "import pandas as pd\n",
    "import matplotlib.pyplot as plt\n",
    "%matplotlib inline\n",
    "from sklearn import tree"
   ]
  },
  {
   "cell_type": "code",
   "execution_count": 2,
   "metadata": {},
   "outputs": [],
   "source": [
    "df = pd.read_csv('hrdata.csv')"
   ]
  },
  {
   "cell_type": "code",
   "execution_count": 10,
   "metadata": {},
   "outputs": [],
   "source": [
    "X = df\n",
    "y = df['Attrition']"
   ]
  },
  {
   "cell_type": "code",
   "execution_count": 11,
   "metadata": {},
   "outputs": [
    {
     "data": {
      "text/plain": [
       "0       Yes\n",
       "1        No\n",
       "2       Yes\n",
       "3        No\n",
       "4        No\n",
       "5        No\n",
       "6        No\n",
       "7        No\n",
       "8        No\n",
       "9        No\n",
       "10       No\n",
       "11       No\n",
       "12       No\n",
       "13       No\n",
       "14      Yes\n",
       "15       No\n",
       "16       No\n",
       "17       No\n",
       "18       No\n",
       "19       No\n",
       "20       No\n",
       "21      Yes\n",
       "22       No\n",
       "23       No\n",
       "24      Yes\n",
       "25       No\n",
       "26      Yes\n",
       "27       No\n",
       "28       No\n",
       "29       No\n",
       "       ... \n",
       "1440     No\n",
       "1441     No\n",
       "1442    Yes\n",
       "1443     No\n",
       "1444    Yes\n",
       "1445     No\n",
       "1446     No\n",
       "1447     No\n",
       "1448     No\n",
       "1449     No\n",
       "1450     No\n",
       "1451     No\n",
       "1452    Yes\n",
       "1453     No\n",
       "1454     No\n",
       "1455     No\n",
       "1456     No\n",
       "1457     No\n",
       "1458     No\n",
       "1459     No\n",
       "1460     No\n",
       "1461    Yes\n",
       "1462     No\n",
       "1463     No\n",
       "1464     No\n",
       "1465     No\n",
       "1466     No\n",
       "1467     No\n",
       "1468     No\n",
       "1469     No\n",
       "Name: Attrition, Length: 1470, dtype: object"
      ]
     },
     "execution_count": 11,
     "metadata": {},
     "output_type": "execute_result"
    }
   ],
   "source": [
    "X.pop('Attrition')"
   ]
  },
  {
   "cell_type": "code",
   "execution_count": null,
   "metadata": {},
   "outputs": [],
   "source": []
  }
 ],
 "metadata": {
  "kernelspec": {
   "display_name": "Python 3",
   "language": "python",
   "name": "python3"
  },
  "language_info": {
   "codemirror_mode": {
    "name": "ipython",
    "version": 3
   },
   "file_extension": ".py",
   "mimetype": "text/x-python",
   "name": "python",
   "nbconvert_exporter": "python",
   "pygments_lexer": "ipython3",
   "version": "3.6.5"
  }
 },
 "nbformat": 4,
 "nbformat_minor": 2
}
