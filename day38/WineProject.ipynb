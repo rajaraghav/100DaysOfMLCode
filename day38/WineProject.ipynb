{
 "cells": [
  {
   "cell_type": "code",
   "execution_count": 1,
   "metadata": {},
   "outputs": [],
   "source": [
    "import matplotlib.pyplot as plt\n",
    "import seaborn as sns\n",
    "import numpy as np\n",
    "%matplotlib inline\n",
    "import pandas as pd\n",
    "sns.set()"
   ]
  },
  {
   "cell_type": "code",
   "execution_count": 4,
   "metadata": {},
   "outputs": [
    {
     "data": {
      "text/plain": [
       "(178, 14)"
      ]
     },
     "execution_count": 4,
     "metadata": {},
     "output_type": "execute_result"
    }
   ],
   "source": [
    "df = pd.read_csv('wine.csv')\n",
    "df.shape"
   ]
  },
  {
   "cell_type": "code",
   "execution_count": 5,
   "metadata": {},
   "outputs": [
    {
     "data": {
      "text/html": [
       "<div>\n",
       "<style scoped>\n",
       "    .dataframe tbody tr th:only-of-type {\n",
       "        vertical-align: middle;\n",
       "    }\n",
       "\n",
       "    .dataframe tbody tr th {\n",
       "        vertical-align: top;\n",
       "    }\n",
       "\n",
       "    .dataframe thead th {\n",
       "        text-align: right;\n",
       "    }\n",
       "</style>\n",
       "<table border=\"1\" class=\"dataframe\">\n",
       "  <thead>\n",
       "    <tr style=\"text-align: right;\">\n",
       "      <th></th>\n",
       "      <th>Wine</th>\n",
       "      <th>Alcohol</th>\n",
       "      <th>Malic.acid</th>\n",
       "      <th>Ash</th>\n",
       "      <th>Acl</th>\n",
       "      <th>Mg</th>\n",
       "      <th>Phenols</th>\n",
       "      <th>Flavanoids</th>\n",
       "      <th>Nonflavanoid.phenols</th>\n",
       "      <th>Proanth</th>\n",
       "      <th>Color.int</th>\n",
       "      <th>Hue</th>\n",
       "      <th>OD</th>\n",
       "      <th>Proline</th>\n",
       "    </tr>\n",
       "  </thead>\n",
       "  <tbody>\n",
       "    <tr>\n",
       "      <th>0</th>\n",
       "      <td>1</td>\n",
       "      <td>14.23</td>\n",
       "      <td>1.71</td>\n",
       "      <td>2.43</td>\n",
       "      <td>15.6</td>\n",
       "      <td>127</td>\n",
       "      <td>2.80</td>\n",
       "      <td>3.06</td>\n",
       "      <td>0.28</td>\n",
       "      <td>2.29</td>\n",
       "      <td>5.64</td>\n",
       "      <td>1.04</td>\n",
       "      <td>3.92</td>\n",
       "      <td>1065</td>\n",
       "    </tr>\n",
       "    <tr>\n",
       "      <th>1</th>\n",
       "      <td>1</td>\n",
       "      <td>13.20</td>\n",
       "      <td>1.78</td>\n",
       "      <td>2.14</td>\n",
       "      <td>11.2</td>\n",
       "      <td>100</td>\n",
       "      <td>2.65</td>\n",
       "      <td>2.76</td>\n",
       "      <td>0.26</td>\n",
       "      <td>1.28</td>\n",
       "      <td>4.38</td>\n",
       "      <td>1.05</td>\n",
       "      <td>3.40</td>\n",
       "      <td>1050</td>\n",
       "    </tr>\n",
       "    <tr>\n",
       "      <th>2</th>\n",
       "      <td>1</td>\n",
       "      <td>13.16</td>\n",
       "      <td>2.36</td>\n",
       "      <td>2.67</td>\n",
       "      <td>18.6</td>\n",
       "      <td>101</td>\n",
       "      <td>2.80</td>\n",
       "      <td>3.24</td>\n",
       "      <td>0.30</td>\n",
       "      <td>2.81</td>\n",
       "      <td>5.68</td>\n",
       "      <td>1.03</td>\n",
       "      <td>3.17</td>\n",
       "      <td>1185</td>\n",
       "    </tr>\n",
       "    <tr>\n",
       "      <th>3</th>\n",
       "      <td>1</td>\n",
       "      <td>14.37</td>\n",
       "      <td>1.95</td>\n",
       "      <td>2.50</td>\n",
       "      <td>16.8</td>\n",
       "      <td>113</td>\n",
       "      <td>3.85</td>\n",
       "      <td>3.49</td>\n",
       "      <td>0.24</td>\n",
       "      <td>2.18</td>\n",
       "      <td>7.80</td>\n",
       "      <td>0.86</td>\n",
       "      <td>3.45</td>\n",
       "      <td>1480</td>\n",
       "    </tr>\n",
       "    <tr>\n",
       "      <th>4</th>\n",
       "      <td>1</td>\n",
       "      <td>13.24</td>\n",
       "      <td>2.59</td>\n",
       "      <td>2.87</td>\n",
       "      <td>21.0</td>\n",
       "      <td>118</td>\n",
       "      <td>2.80</td>\n",
       "      <td>2.69</td>\n",
       "      <td>0.39</td>\n",
       "      <td>1.82</td>\n",
       "      <td>4.32</td>\n",
       "      <td>1.04</td>\n",
       "      <td>2.93</td>\n",
       "      <td>735</td>\n",
       "    </tr>\n",
       "  </tbody>\n",
       "</table>\n",
       "</div>"
      ],
      "text/plain": [
       "   Wine  Alcohol  Malic.acid   Ash   Acl   Mg  Phenols  Flavanoids  \\\n",
       "0     1    14.23        1.71  2.43  15.6  127     2.80        3.06   \n",
       "1     1    13.20        1.78  2.14  11.2  100     2.65        2.76   \n",
       "2     1    13.16        2.36  2.67  18.6  101     2.80        3.24   \n",
       "3     1    14.37        1.95  2.50  16.8  113     3.85        3.49   \n",
       "4     1    13.24        2.59  2.87  21.0  118     2.80        2.69   \n",
       "\n",
       "   Nonflavanoid.phenols  Proanth  Color.int   Hue    OD  Proline  \n",
       "0                  0.28     2.29       5.64  1.04  3.92     1065  \n",
       "1                  0.26     1.28       4.38  1.05  3.40     1050  \n",
       "2                  0.30     2.81       5.68  1.03  3.17     1185  \n",
       "3                  0.24     2.18       7.80  0.86  3.45     1480  \n",
       "4                  0.39     1.82       4.32  1.04  2.93      735  "
      ]
     },
     "execution_count": 5,
     "metadata": {},
     "output_type": "execute_result"
    }
   ],
   "source": [
    "df.head()"
   ]
  },
  {
   "cell_type": "code",
   "execution_count": 7,
   "metadata": {},
   "outputs": [],
   "source": [
    "X = df.iloc[:, 1:]"
   ]
  },
  {
   "cell_type": "code",
   "execution_count": 10,
   "metadata": {},
   "outputs": [],
   "source": [
    "y = df['Wine']"
   ]
  },
  {
   "cell_type": "code",
   "execution_count": 11,
   "metadata": {},
   "outputs": [],
   "source": [
    "from sklearn.model_selection import train_test_split"
   ]
  },
  {
   "cell_type": "code",
   "execution_count": 12,
   "metadata": {},
   "outputs": [],
   "source": [
    "X_train, X_test, y_train, y_test = train_test_split(X,y)"
   ]
  },
  {
   "cell_type": "code",
   "execution_count": 17,
   "metadata": {},
   "outputs": [],
   "source": [
    "from sklearn.preprocessing import StandardScaler\n",
    "from sklearn.decomposition import PCA"
   ]
  },
  {
   "cell_type": "code",
   "execution_count": 14,
   "metadata": {},
   "outputs": [],
   "source": [
    "sc= StandardScaler()"
   ]
  },
  {
   "cell_type": "code",
   "execution_count": 16,
   "metadata": {},
   "outputs": [],
   "source": [
    "X_train = sc.fit(X_train)\n",
    "X_train_scaled = sc.transform(X_train)\n",
    "X_test_scaled = sc.transform(X_test)"
   ]
  },
  {
   "cell_type": "code",
   "execution_count": 18,
   "metadata": {},
   "outputs": [
    {
     "data": {
      "text/plain": [
       "PCA(copy=True, iterated_power='auto', n_components=2, random_state=None,\n",
       "  svd_solver='auto', tol=0.0, whiten=False)"
      ]
     },
     "execution_count": 18,
     "metadata": {},
     "output_type": "execute_result"
    }
   ],
   "source": [
    "pca = PCA(n_components=2)\n",
    "pca.fit(X_train_scaled)"
   ]
  },
  {
   "cell_type": "code",
   "execution_count": 20,
   "metadata": {},
   "outputs": [
    {
     "name": "stdout",
     "output_type": "stream",
     "text": [
      "[0.398 0.186]\n"
     ]
    }
   ],
   "source": [
    "print(np.round(pca.explained_variance_ratio_,3))"
   ]
  },
  {
   "cell_type": "code",
   "execution_count": 21,
   "metadata": {},
   "outputs": [
    {
     "data": {
      "text/html": [
       "<div>\n",
       "<style scoped>\n",
       "    .dataframe tbody tr th:only-of-type {\n",
       "        vertical-align: middle;\n",
       "    }\n",
       "\n",
       "    .dataframe tbody tr th {\n",
       "        vertical-align: top;\n",
       "    }\n",
       "\n",
       "    .dataframe thead th {\n",
       "        text-align: right;\n",
       "    }\n",
       "</style>\n",
       "<table border=\"1\" class=\"dataframe\">\n",
       "  <thead>\n",
       "    <tr style=\"text-align: right;\">\n",
       "      <th></th>\n",
       "      <th>Alcohol</th>\n",
       "      <th>Malic.acid</th>\n",
       "      <th>Ash</th>\n",
       "      <th>Acl</th>\n",
       "      <th>Mg</th>\n",
       "      <th>Phenols</th>\n",
       "      <th>Flavanoids</th>\n",
       "      <th>Nonflavanoid.phenols</th>\n",
       "      <th>Proanth</th>\n",
       "      <th>Color.int</th>\n",
       "      <th>Hue</th>\n",
       "      <th>OD</th>\n",
       "      <th>Proline</th>\n",
       "    </tr>\n",
       "  </thead>\n",
       "  <tbody>\n",
       "    <tr>\n",
       "      <th>0</th>\n",
       "      <td>-0.112</td>\n",
       "      <td>0.291</td>\n",
       "      <td>0.097</td>\n",
       "      <td>0.291</td>\n",
       "      <td>-0.188</td>\n",
       "      <td>-0.359</td>\n",
       "      <td>-0.389</td>\n",
       "      <td>0.293</td>\n",
       "      <td>-0.293</td>\n",
       "      <td>0.113</td>\n",
       "      <td>-0.299</td>\n",
       "      <td>-0.364</td>\n",
       "      <td>-0.296</td>\n",
       "    </tr>\n",
       "    <tr>\n",
       "      <th>1</th>\n",
       "      <td>0.511</td>\n",
       "      <td>0.251</td>\n",
       "      <td>0.238</td>\n",
       "      <td>-0.053</td>\n",
       "      <td>0.192</td>\n",
       "      <td>0.107</td>\n",
       "      <td>0.058</td>\n",
       "      <td>-0.028</td>\n",
       "      <td>0.101</td>\n",
       "      <td>0.548</td>\n",
       "      <td>-0.297</td>\n",
       "      <td>-0.187</td>\n",
       "      <td>0.361</td>\n",
       "    </tr>\n",
       "  </tbody>\n",
       "</table>\n",
       "</div>"
      ],
      "text/plain": [
       "   Alcohol  Malic.acid    Ash    Acl     Mg  Phenols  Flavanoids  \\\n",
       "0   -0.112       0.291  0.097  0.291 -0.188   -0.359      -0.389   \n",
       "1    0.511       0.251  0.238 -0.053  0.192    0.107       0.058   \n",
       "\n",
       "   Nonflavanoid.phenols  Proanth  Color.int    Hue     OD  Proline  \n",
       "0                 0.293   -0.293      0.113 -0.299 -0.364   -0.296  \n",
       "1                -0.028    0.101      0.548 -0.297 -0.187    0.361  "
      ]
     },
     "execution_count": 21,
     "metadata": {},
     "output_type": "execute_result"
    }
   ],
   "source": [
    "pd.DataFrame(np.round(pca.components_,3),columns=X.columns)"
   ]
  },
  {
   "cell_type": "code",
   "execution_count": 22,
   "metadata": {},
   "outputs": [],
   "source": [
    "pca = PCA(n_components=None)"
   ]
  },
  {
   "cell_type": "code",
   "execution_count": 24,
   "metadata": {},
   "outputs": [
    {
     "data": {
      "text/plain": [
       "PCA(copy=True, iterated_power='auto', n_components=None, random_state=None,\n",
       "  svd_solver='auto', tol=0.0, whiten=False)"
      ]
     },
     "execution_count": 24,
     "metadata": {},
     "output_type": "execute_result"
    }
   ],
   "source": [
    "pca.fit(X_tes_scaled)"
   ]
  },
  {
   "cell_type": "code",
   "execution_count": 25,
   "metadata": {},
   "outputs": [
    {
     "data": {
      "text/plain": [
       "array([[ 4.18370041e+00,  7.31676569e-01, -1.91525526e+00,\n",
       "        -1.45066392e+00, -4.06517746e-01,  1.15793077e-01,\n",
       "        -1.25945705e+00,  1.40040131e-01, -4.39465059e-01,\n",
       "        -3.25733053e-01, -5.45848312e-02, -4.96215188e-01,\n",
       "        -5.28606955e-02],\n",
       "       [ 1.78069317e+00, -9.75804323e-01,  2.49582120e-01,\n",
       "        -8.39102954e-01,  3.86296986e-01,  1.28937995e+00,\n",
       "        -9.93457098e-01, -1.03373031e+00, -1.46868875e-01,\n",
       "         1.87243737e-01,  9.78814712e-02,  7.12347470e-02,\n",
       "        -3.86134366e-02],\n",
       "       [-3.44557834e+00,  2.53434797e+00,  5.67695648e-01,\n",
       "        -9.17638456e-01, -3.09419261e-01, -3.87336294e-01,\n",
       "         9.23830401e-01, -9.08827869e-02, -4.77744631e-01,\n",
       "         6.45515370e-01, -4.37429333e-01,  4.45337105e-01,\n",
       "        -2.09071586e-01],\n",
       "       [-2.31024389e+00,  1.08248878e-01, -8.60660050e-01,\n",
       "        -6.87649574e-02,  7.41937002e-01,  5.82416924e-01,\n",
       "         5.43271880e-02, -5.24956343e-01,  5.29317574e-01,\n",
       "        -5.26148916e-01,  1.02542673e-01,  1.70029659e-01,\n",
       "        -3.32230974e-01],\n",
       "       [ 3.23904089e-01, -2.37590979e+00, -1.23644622e+00,\n",
       "        -2.57416500e-01,  8.25346306e-01,  4.57469126e-01,\n",
       "         3.67181343e-01, -3.62245232e-01, -7.28385818e-02,\n",
       "        -4.24658127e-01, -7.56909737e-01, -9.57403347e-02,\n",
       "         9.34219268e-02],\n",
       "       [-1.87417546e+00,  7.02995584e-01, -6.66451682e-01,\n",
       "        -1.12445901e+00, -5.09001776e-01, -7.44393528e-01,\n",
       "         7.63801228e-03,  5.91586231e-01, -6.93810239e-02,\n",
       "         7.72331554e-01,  1.24092952e-01, -4.36311391e-01,\n",
       "         1.28373482e-01],\n",
       "       [ 3.49802885e-01, -2.19340506e+00,  1.04375195e+00,\n",
       "         3.31234462e-01,  6.01084034e-01, -4.64596642e-01,\n",
       "         9.49302638e-01, -2.72292578e-01, -5.16940983e-01,\n",
       "        -2.41944624e-01, -1.27151832e-02, -2.07426643e-01,\n",
       "         2.92060642e-01],\n",
       "       [ 4.56194915e-02, -1.92442104e+00, -7.46578550e-01,\n",
       "        -6.01634330e-01,  4.77695723e-01,  2.85629457e-01,\n",
       "         1.49560400e-01,  2.87840764e-01,  3.98228322e-01,\n",
       "         2.71668294e-01,  8.26693535e-01,  1.94270857e-01,\n",
       "        -4.45719016e-01],\n",
       "       [ 1.33265166e+00, -1.09919897e+00,  2.19504173e+00,\n",
       "        -1.34250470e-01, -1.81347765e+00, -2.66903715e-01,\n",
       "         5.09663194e-01, -6.13141209e-01, -3.89262790e-01,\n",
       "        -2.15816494e-01,  6.86357989e-01,  4.93600113e-01,\n",
       "        -1.32823858e-01],\n",
       "       [ 6.82934414e-01, -2.18921668e+00,  5.41501844e-01,\n",
       "         3.35384102e-01, -2.80653009e-01, -9.46498741e-02,\n",
       "         6.01219491e-02,  8.86377155e-01, -6.07028114e-01,\n",
       "         6.23033875e-01, -4.32703044e-01,  1.17151002e-01,\n",
       "        -1.76915044e-02],\n",
       "       [ 1.74330790e+00,  2.35869491e+00,  7.19813549e-01,\n",
       "         1.01585519e+00,  1.79913420e+00,  5.19564983e-01,\n",
       "         1.76078273e+00,  1.00154298e+00,  4.08759082e-01,\n",
       "        -3.33629936e-01,  3.23975513e-01,  7.57423930e-02,\n",
       "         5.87237145e-01],\n",
       "       [-2.72489792e+00,  1.44550412e+00, -4.39708804e-01,\n",
       "        -1.16530461e+00,  3.57576043e-04,  1.35724233e+00,\n",
       "        -1.11229318e+00,  5.12759855e-02,  4.02343879e-02,\n",
       "        -5.62600717e-01,  1.67571007e-01,  3.65385283e-01,\n",
       "         1.10996934e-01],\n",
       "       [-2.82563359e+00, -1.25464858e-01, -6.01944294e-01,\n",
       "         3.85463039e+00, -1.30591624e+00,  1.47217455e+00,\n",
       "        -1.67780456e-01, -2.21975195e-02, -1.55188079e-01,\n",
       "        -1.29446370e-01, -1.60146802e-01, -3.58570376e-01,\n",
       "        -5.54055178e-02],\n",
       "       [-3.09578416e+00,  1.86901620e+00,  9.75396695e-02,\n",
       "        -2.33664514e-01,  9.08226874e-01, -2.88461193e-01,\n",
       "         1.66071264e-01, -6.93510910e-01, -3.18148861e-01,\n",
       "        -1.88249406e-01,  2.03992629e-01, -4.16490298e-01,\n",
       "        -1.67133190e-02],\n",
       "       [-2.67682656e+00,  1.19503385e+00, -1.19309231e+00,\n",
       "        -1.30926351e+00, -1.66627102e-01,  1.51648843e-01,\n",
       "         1.96543480e-01,  1.02478462e+00, -1.73522468e-01,\n",
       "        -6.50462661e-01,  9.93186491e-02, -4.47954026e-01,\n",
       "        -7.62366979e-02],\n",
       "       [ 3.62907088e+00,  1.71667951e+00, -5.19728110e-01,\n",
       "        -1.51814226e-01, -3.71890529e-01,  1.79231239e+00,\n",
       "         1.72509143e-01, -1.82269125e-01, -4.49556125e-02,\n",
       "         8.71608767e-02, -4.62917126e-01,  4.46116579e-01,\n",
       "         2.69400920e-02],\n",
       "       [ 3.50077330e+00,  8.02213720e-01, -8.04694044e-01,\n",
       "        -5.79028114e-01, -4.57498130e-01,  5.70695678e-01,\n",
       "        -5.23950210e-01,  7.82453733e-01,  1.79153596e-01,\n",
       "         1.42847030e-01, -4.28715723e-01,  3.13314069e-01,\n",
       "        -1.07404200e-01],\n",
       "       [-1.77514918e+00, -5.90019530e-01, -1.17095009e+00,\n",
       "        -9.91676132e-01, -4.78745117e-01, -5.56051458e-01,\n",
       "         3.33937059e-01, -1.84889349e-01, -4.56554662e-01,\n",
       "         7.04483068e-02, -2.02826645e-01, -9.10487174e-02,\n",
       "        -8.36702657e-02],\n",
       "       [-1.79157884e+00,  1.13393381e+00,  1.73199820e+00,\n",
       "         1.81888690e-01, -1.78899940e+00, -6.70092069e-01,\n",
       "         3.86165029e-01, -1.72831672e-01,  7.06627645e-01,\n",
       "        -2.77567084e-01, -8.70772614e-01,  1.59011322e-01,\n",
       "        -1.74093558e-01],\n",
       "       [-3.04868821e+00,  2.14191765e+00,  8.00378967e-02,\n",
       "        -6.95333835e-01, -4.51443521e-01,  1.17491954e-01,\n",
       "         6.89221459e-01, -2.24129683e-01, -1.13370893e-01,\n",
       "        -1.87359520e-01, -1.46572297e-01, -1.96634004e-01,\n",
       "        -1.18225804e-03],\n",
       "       [-1.05554684e+00, -1.95725833e+00, -4.14866862e-01,\n",
       "        -1.39480992e-01, -1.50841114e-01, -7.20491202e-01,\n",
       "        -1.80339130e-01,  4.89784872e-01,  2.39324715e-01,\n",
       "        -5.11348230e-01,  3.14224669e-01,  1.33203296e-01,\n",
       "         1.72506478e-01],\n",
       "       [ 1.15493077e-01, -2.09742699e+00, -1.92321026e+00,\n",
       "        -4.22617253e-01,  5.89785876e-02, -4.64965504e-01,\n",
       "        -9.26907099e-02,  4.90351619e-01,  3.16347149e-01,\n",
       "         3.79110278e-01,  1.36133553e-01, -2.51065813e-01,\n",
       "        -1.64851917e-01],\n",
       "       [-2.37184011e+00, -9.58637062e-01, -1.57786411e-01,\n",
       "        -3.30829153e-01,  1.93212730e+00,  2.63265390e-01,\n",
       "         4.55904898e-01, -3.89282576e-01, -8.22497697e-01,\n",
       "        -6.11450967e-01, -4.63393632e-01,  2.16103952e-01,\n",
       "        -3.05348804e-01],\n",
       "       [-2.44757227e+00,  1.17734031e+00,  9.91533312e-01,\n",
       "         3.75116177e-01,  4.32661266e-01,  1.28151941e+00,\n",
       "        -1.06092086e-01, -3.66713904e-02, -3.44550837e-01,\n",
       "         5.79594586e-01,  1.19959360e+00, -9.93738564e-02,\n",
       "         1.59501124e-01],\n",
       "       [ 2.80911583e+00,  1.21533979e+00, -1.31814495e+00,\n",
       "        -4.61920723e-01,  2.57769806e-01, -6.50922492e-01,\n",
       "         6.23463262e-01, -2.75875576e-01, -1.08874864e-01,\n",
       "         2.69219408e-01,  3.02248075e-01,  9.37626973e-01,\n",
       "         2.87197603e-01],\n",
       "       [ 2.32343058e+00,  1.75408649e+00,  4.58612498e-01,\n",
       "         1.06556350e+00,  2.82323647e-01, -6.88413663e-01,\n",
       "        -2.42084850e-01,  5.80622142e-01,  2.78821879e-01,\n",
       "         6.33738618e-01,  1.09862338e-01, -1.93645083e-01,\n",
       "         1.70326008e-01],\n",
       "       [-8.16801425e-01,  6.29595084e-01,  1.92214113e+00,\n",
       "         6.00792137e-01, -4.37963732e-01,  1.55702271e-01,\n",
       "        -8.20554028e-01, -2.74345760e-01,  6.72627681e-02,\n",
       "        -6.90519921e-01,  3.00792149e-01, -6.61047517e-02,\n",
       "         2.08531726e-02],\n",
       "       [ 4.66393969e-01, -2.06532175e+00,  7.59763523e-01,\n",
       "         9.71543075e-02, -1.41398277e+00, -1.15441088e+00,\n",
       "         3.52080429e-01,  4.57304712e-01, -8.57683009e-01,\n",
       "        -5.90241168e-01, -6.03230662e-02,  4.57375246e-01,\n",
       "         1.99869142e-01],\n",
       "       [-1.89435046e+00, -1.15186518e+00,  5.15398346e-02,\n",
       "         4.45952782e-01,  1.52066229e+00, -5.58081359e-01,\n",
       "        -5.76782850e-01, -1.19301213e+00,  2.08340995e-01,\n",
       "         2.69936999e-01, -4.77253162e-01, -1.88173880e-01,\n",
       "         9.63323821e-01],\n",
       "       [ 2.52695799e+00,  1.83680122e+00, -1.04587930e+00,\n",
       "         1.44725410e+00,  1.23493811e+00, -1.42192894e+00,\n",
       "        -1.32116357e-01, -6.46583344e-01, -3.37631814e-01,\n",
       "        -1.86979086e-01,  5.39380162e-01,  3.00241727e-01,\n",
       "        -3.86172496e-01],\n",
       "       [-1.38052532e+00, -7.86321773e-01,  2.03795640e+00,\n",
       "        -1.17199197e-01,  1.38818655e+00, -5.61459750e-01,\n",
       "        -1.80928968e+00,  1.69102986e+00, -3.12464895e-01,\n",
       "        -2.01245946e-02, -2.34941695e-01,  1.12841048e-01,\n",
       "         2.55260192e-01],\n",
       "       [ 2.41390200e+00,  2.42748125e-01, -1.51037868e+00,\n",
       "         9.05696545e-01,  1.34738402e-01, -2.67947393e-01,\n",
       "         1.88919689e+00,  7.27184972e-02,  6.24385714e-01,\n",
       "        -9.08918993e-02, -3.13261951e-01, -4.61944915e-01,\n",
       "        -2.64968442e-01],\n",
       "       [-2.65719798e+00,  1.52418757e+00, -1.01355591e-02,\n",
       "        -1.87101467e-01,  3.36578316e-01, -3.09441826e-01,\n",
       "         6.75087578e-02, -2.91017188e-01, -1.71920408e-01,\n",
       "         1.18955325e+00, -2.88185877e-01,  3.87761084e-02,\n",
       "        -5.12902444e-02],\n",
       "       [ 2.76598691e+00, -4.75897184e-02,  5.83460588e-01,\n",
       "        -4.95403310e-01, -9.51180678e-01, -5.90736090e-01,\n",
       "        -1.27358088e-02, -3.06702987e-01,  8.51876011e-01,\n",
       "        -2.65257435e-01,  3.02047841e-01, -4.58570667e-01,\n",
       "         3.44869801e-01],\n",
       "       [-2.03779938e+00,  1.29058841e+00,  4.72760687e-01,\n",
       "        -6.72586580e-01, -1.22548725e+00, -8.68859517e-01,\n",
       "        -7.26842873e-01, -5.65143078e-01,  1.11826470e+00,\n",
       "         2.39383776e-02,  1.42334192e-01, -4.45277373e-02,\n",
       "         3.26469317e-02],\n",
       "       [-6.63178208e-01, -1.89589805e+00, -7.79017858e-01,\n",
       "        -7.20862833e-01,  6.85596558e-01,  2.02537328e-01,\n",
       "        -3.99967636e-01,  9.55408486e-02,  1.03628515e+00,\n",
       "         4.79572977e-01, -1.03054959e-01,  3.67676976e-01,\n",
       "        -1.73509158e-01],\n",
       "       [-1.74597928e+00,  8.98688345e-02,  1.30164224e-01,\n",
       "        -4.22361037e-01, -9.49701632e-01,  4.57534372e-01,\n",
       "         2.76924169e-01,  7.16684034e-01, -1.09036147e-01,\n",
       "        -5.70962013e-02,  5.53880578e-02, -1.48428920e-01,\n",
       "        -1.77009242e-01],\n",
       "       [-2.56449523e+00, -1.57019147e+00, -2.82249117e+00,\n",
       "         2.94513705e+00, -1.15265133e+00, -1.08750214e-02,\n",
       "        -6.60897440e-01,  1.01477817e-01,  2.57826509e-01,\n",
       "         1.15112205e-01,  4.44877929e-02,  4.99557591e-01,\n",
       "         3.11216996e-01],\n",
       "       [ 4.75576933e-01, -1.91107875e+00,  1.35014863e+00,\n",
       "        -6.15408608e-01,  9.38185854e-01, -4.16259869e-01,\n",
       "        -4.62292112e-02, -4.41714066e-01,  7.82505919e-01,\n",
       "        -4.88678658e-01, -5.01577597e-02, -2.15532450e-02,\n",
       "        -2.83948116e-01],\n",
       "       [ 2.44144865e+00,  2.02462470e+00, -4.24579677e-01,\n",
       "         1.71616350e+00,  5.49426963e-01, -1.46790841e+00,\n",
       "        -1.28143463e+00, -2.48442234e-01, -6.09679204e-01,\n",
       "        -1.53858664e-01,  4.81187115e-02, -2.65222476e-01,\n",
       "        -6.00966135e-01],\n",
       "       [ 1.81392432e+00, -1.37583592e+00,  3.01099458e+00,\n",
       "         1.07289912e+00,  6.21200295e-01,  7.94110938e-01,\n",
       "        -9.26394985e-02,  1.10607803e-01,  1.79614721e-01,\n",
       "         6.00898454e-01, -3.68465002e-01, -2.52987103e-01,\n",
       "        -6.48292158e-01],\n",
       "       [ 3.90293709e+00,  2.66957519e-02, -1.30334027e-01,\n",
       "        -6.61335696e-01, -1.18008804e+00,  4.92614437e-01,\n",
       "        -2.36766623e-01, -1.08763977e+00, -7.54766366e-01,\n",
       "         2.90816412e-01, -2.05593778e-01, -3.94552057e-01,\n",
       "         4.06717265e-01],\n",
       "       [ 1.00269030e+00, -1.79013635e+00,  8.31854118e-01,\n",
       "        -3.23877549e-01, -1.22037840e-02,  2.81589264e-01,\n",
       "         3.88392620e-01, -5.24826762e-01,  2.45427712e-01,\n",
       "         5.52438767e-01,  2.39290643e-01, -7.81930451e-02,\n",
       "         2.33347674e-02],\n",
       "       [ 1.07609316e+00, -1.96518958e+00, -1.05765535e-01,\n",
       "        -3.77289186e-01, -5.13333905e-01,  5.84113870e-01,\n",
       "         9.38661291e-01,  4.82291839e-01, -4.06081089e-01,\n",
       "        -3.03528999e-02,  5.61810472e-01, -3.56505687e-01,\n",
       "         1.95013720e-02],\n",
       "       [ 3.49743365e+00,  2.49405215e+00,  9.70207589e-01,\n",
       "         7.75670650e-02,  2.14171055e-01,  4.00380142e-01,\n",
       "        -2.44586208e-01,  6.04017937e-01,  3.47852412e-01,\n",
       "        -4.23762742e-01, -3.97214461e-01,  1.12644168e-01,\n",
       "         1.93918704e-01]])"
      ]
     },
     "execution_count": 25,
     "metadata": {},
     "output_type": "execute_result"
    }
   ],
   "source": [
    "pca.fit_transform(X_tes_scaled)"
   ]
  },
  {
   "cell_type": "code",
   "execution_count": 27,
   "metadata": {},
   "outputs": [
    {
     "name": "stdout",
     "output_type": "stream",
     "text": [
      "[0.398 0.186 0.106 0.08  0.062 0.042 0.039 0.027 0.018 0.015 0.012 0.008\n",
      " 0.006]\n"
     ]
    }
   ],
   "source": [
    "print(np.round(pca.explained_variance_ratio_,3))"
   ]
  },
  {
   "cell_type": "code",
   "execution_count": 28,
   "metadata": {},
   "outputs": [
    {
     "data": {
      "text/plain": [
       "0.9990000000000002"
      ]
     },
     "execution_count": 28,
     "metadata": {},
     "output_type": "execute_result"
    }
   ],
   "source": [
    "0.398+0.186+0.106+0.08++0.062+0.042+0.039+0.027+0.018+0.015+0.012+0.008+0.006"
   ]
  },
  {
   "cell_type": "code",
   "execution_count": 30,
   "metadata": {},
   "outputs": [],
   "source": [
    "cumsum= np.cumsum(pca.explained_variance_ratio_)"
   ]
  },
  {
   "cell_type": "code",
   "execution_count": 33,
   "metadata": {},
   "outputs": [
    {
     "data": {
      "text/plain": [
       "[<matplotlib.lines.Line2D at 0x1a210752b0>]"
      ]
     },
     "execution_count": 33,
     "metadata": {},
     "output_type": "execute_result"
    },
    {
     "data": {
      "image/png": "[encoded data removed]",
      "text/plain": [
       "<Figure size 432x288 with 1 Axes>"
      ]
     },
     "metadata": {},
     "output_type": "display_data"
    }
   ],
   "source": [
    "plt.plot(cumsum*100)"
   ]
  },
  {
   "cell_type": "code",
   "execution_count": null,
   "metadata": {},
   "outputs": [],
   "source": []
  }
 ],
 "metadata": {
  "kernelspec": {
   "display_name": "Python 3",
   "language": "python",
   "name": "python3"
  },
  "language_info": {
   "codemirror_mode": {
    "name": "ipython",
    "version": 3
   },
   "file_extension": ".py",
   "mimetype": "text/x-python",
   "name": "python",
   "nbconvert_exporter": "python",
   "pygments_lexer": "ipython3",
   "version": "3.6.5"
  }
 },
 "nbformat": 4,
 "nbformat_minor": 2
}
